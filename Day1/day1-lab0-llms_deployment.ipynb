{
 "cells": [
  {
   "cell_type": "markdown",
   "id": "d91009b3-e212-4e7b-b17e-cae759a13369",
   "metadata": {},
   "source": [
    "# Lab model deployment\n",
    "This notebook deploys the required endpoints for the upcoming labs in Day1 and Day2.\n"
   ]
  },
  {
   "cell_type": "markdown",
   "id": "034bbc3c",
   "metadata": {},
   "source": [
    "First:\n",
    "Go to Sagemaker playground and subscribe to the AI21 Jurrasic-2 Mid model\n",
    "\n",
    "https://us-east-1.console.aws.amazon.com/sagemaker/playground?region=us-east-1#/foundation-models/playground/prodview-bzjpjkgd542au\n",
    "\n",
    "Instructions: \n",
    "- Select Data Science 3.0 kernel\n",
    "- Select ml.m5.xlarge\n",
    "- Run all cells, wait 10-15min and open \"day2-lab1-qa_langchain_jumpstart_bootcamp.ipynb\" to continue the lab"
   ]
  },
  {
   "cell_type": "markdown",
   "id": "2eb855e0-5595-4a66-9acf-96b1c161309c",
   "metadata": {},
   "source": [
    "Run all cells and open \"day1-lab1-langchain_introductin.ipynb\" to continue the lab"
   ]
  },
  {
   "cell_type": "code",
   "execution_count": null,
   "id": "0cdd62a6-df0a-4619-8cf3-4408c46c95b8",
   "metadata": {
    "tags": []
   },
   "outputs": [],
   "source": [
    "!pip install --upgrade pip --quiet --disable-pip-version-check --root-user-action=ignore\n",
    "!pip install --upgrade sagemaker --quiet --root-user-action=ignore\n",
    "!pip install -U ai21 --quiet --root-user-action=ignore"
   ]
  },
  {
   "cell_type": "code",
   "execution_count": null,
   "id": "aa8ea90d-ccc5-416c-9507-d62303f25831",
   "metadata": {
    "tags": []
   },
   "outputs": [],
   "source": [
    "import sagemaker, boto3, json, time\n",
    "from sagemaker.session import Session\n",
    "from sagemaker.model import Model\n",
    "from sagemaker import image_uris, model_uris, script_uris, hyperparameters\n",
    "from sagemaker.predictor import Predictor\n",
    "from sagemaker.utils import name_from_base\n",
    "\n",
    "from sagemaker.serializers import JSONSerializer\n",
    "from sagemaker.deserializers import JSONDeserializer\n",
    "\n",
    "sagemaker_session = Session()\n",
    "aws_role = sagemaker_session.get_caller_identity_arn()\n",
    "aws_region = boto3.Session().region_name\n",
    "sm_client = boto3.client('sagemaker', aws_region)\n"
   ]
  },
  {
   "cell_type": "code",
   "execution_count": null,
   "id": "93c4c36c",
   "metadata": {
    "tags": []
   },
   "outputs": [],
   "source": [
    "# Uncomment to list your deployed endpoints, for loading them into the client \n",
    "# sm_client.list_endpoints()"
   ]
  },
  {
   "cell_type": "markdown",
   "id": "5a878810",
   "metadata": {},
   "source": [
    "### Loading existing endpoints (skipped by default)\n",
    "If you need to change only a subset of the endpoints, e.g you are migrating the endpoint to a different instance, you can set `load_endpoint = True` and specify the endpoint names you wish to retain. This will trigger a deployment of all model endpoints that have a empty string set as endpoint_name."
   ]
  },
  {
   "cell_type": "code",
   "execution_count": 18,
   "id": "c58e2b60",
   "metadata": {
    "tags": []
   },
   "outputs": [],
   "source": [
    "# Select to reload environment variables for existing endpoint, or deploy a new endpoint\n",
    "load_endpoint=False\n",
    "\n",
    "falcon_endpoint_name = \"\"\n",
    "embedding_endpoint_name = \"\"\n",
    "ai21_endpoint_name = \"\""
   ]
  },
  {
   "cell_type": "markdown",
   "id": "7686cc13",
   "metadata": {},
   "source": [
    "### Deploying endpoints with configuration\n",
    "Configuration and deployment of the required endpoints using Amazon SageMaker Jumpstart"
   ]
  },
  {
   "cell_type": "code",
   "execution_count": 19,
   "id": "8414acdf",
   "metadata": {
    "tags": []
   },
   "outputs": [],
   "source": [
    "# Configure Falcon-40B Model\n",
    "falcon_inference_model = \"huggingface-llm-falcon-40b-instruct-bf16\"\n",
    "falcon_model_id = \"tiiuae/falcon-4b-instruct\"\n",
    "falcon_instance_type = \"ml.g5.12xlarge\"\n",
    "falcon_number_of_gpu = 4\n",
    "falcon_max_input_length = 1024\n",
    "falcon_max_total_tokens = 2048\n",
    "health_check_timeout = 300# Set to true to reload the environment variables for the model\n",
    "\n",
    "# Configure Embedding model\n",
    "embedding_model = \"huggingface-textembedding-gpt-j-6b-fp16\"\n",
    "embedding_model_instance_type = \"ml.g5.2xlarge\"\n",
    "\n",
    "# Configure AI Jurassic model\n",
    "# ai21_inference_model = \"j2-grande\"\n",
    "# ai21_instance_type = \"ml.g5.48xlarge\"\n",
    "# ai21_number_of_gpu = 4\n",
    "# ai21_max_input_length = 1024\n",
    "# ai21_max_total_tokens = 2048"
   ]
  },
  {
   "cell_type": "code",
   "execution_count": null,
   "id": "b55d912a",
   "metadata": {
    "tags": []
   },
   "outputs": [],
   "source": [
    "#models configuration\n",
    "_MODEL_CONFIG_ = {\n",
    "    falcon_inference_model:{\n",
    "        \"provider\": \"jumpstart\",\n",
    "        \"instance_type\": falcon_instance_type,\n",
    "        \"env\": {\n",
    "            'HF_MODEL_ID': falcon_model_id,\n",
    "            'SM_NUM_GPUS': json.dumps(falcon_number_of_gpu),\n",
    "            'MAX_INPUT_LENGTH': json.dumps(falcon_max_input_length),\n",
    "            'MAX_TOTAL_TOKENS': json.dumps(falcon_max_total_tokens),\n",
    "        },\n",
    "        \"version\":\"1.0.0\",\n",
    "    },\n",
    "    embedding_model: {\n",
    "        \"provider\": \"jumpstart\",\n",
    "        \"instance_type\": embedding_model_instance_type,\n",
    "        \"env\": {\"TS_DEFAULT_WORKERS_PER_MODEL\": \"1\"},\n",
    "        \"version\":\"*\",\n",
    "    },\n",
    "    # ai21_inference_model:{\n",
    "    #     \"provider\": \"marketplace\",\n",
    "    #     \"instance_type\": ai21_instance_type,\n",
    "    #     \"env\": {\n",
    "    #         'HF_MODEL_ID': ai21_inference_model,\n",
    "    #         'SM_NUM_GPUS': json.dumps(ai21_number_of_gpu),\n",
    "    #         'MAX_INPUT_LENGTH': json.dumps(ai21_max_input_length),\n",
    "    #         'MAX_TOTAL_TOKENS': json.dumps(ai21_max_total_tokens),\n",
    "    #     },\n",
    "    #     \"version\":\"1.0.0\",\n",
    "    # }\n",
    "}\n",
    "\n",
    "if load_endpoint:\n",
    "    _MODEL_CONFIG_[falcon_inference_model]['endpoint_name'] = falcon_endpoint_name\n",
    "    _MODEL_CONFIG_[embedding_model]['endpoint_name'] = embedding_endpoint_name    \n",
    "    # _MODEL_CONFIG_[ai21_inference_model]['endpoint_name'] = ai21_endpoint_name"
   ]
  },
  {
   "cell_type": "code",
   "execution_count": null,
   "id": "1003a877",
   "metadata": {
    "tags": []
   },
   "outputs": [],
   "source": [
    "from sagemaker import ModelPackage, get_execution_role\n",
    "\n",
    "def deploy_ai21(model_id: str, config: dict):\n",
    "    \"Manages the model deployment to the SageMaker environment for the AI21 models\"\n",
    "    role = get_execution_role()\n",
    "    sagemaker_session = sagemaker.Session()\n",
    "\n",
    "    runtime_sm_client = boto3.client(\"runtime.sagemaker\")\n",
    "    model_package_map = {\n",
    "        \"us-east-1\": \"arn:aws:sagemaker:us-east-1:865070037744:model-package/j2-grande-v1-0-43-6964668ff5aa38edbffbbb3f57e83d39\",\n",
    "        \"us-east-2\": \"arn:aws:sagemaker:us-east-2:057799348421:model-package/j2-grande-v1-0-43-6964668ff5aa38edbffbbb3f57e83d39\",\n",
    "        \"us-west-1\": \"arn:aws:sagemaker:us-west-1:382657785993:model-package/j2-grande-v1-0-43-6964668ff5aa38edbffbbb3f57e83d39\",\n",
    "        \"us-west-2\": \"arn:aws:sagemaker:us-west-2:594846645681:model-package/j2-grande-v1-0-43-6964668ff5aa38edbffbbb3f57e83d39\",\n",
    "        \"ca-central-1\": \"arn:aws:sagemaker:ca-central-1:470592106596:model-package/j2-grande-v1-0-43-6964668ff5aa38edbffbbb3f57e83d39\",\n",
    "        \"eu-central-1\": \"arn:aws:sagemaker:eu-central-1:446921602837:model-package/j2-grande-v1-0-43-6964668ff5aa38edbffbbb3f57e83d39\",\n",
    "        \"eu-west-1\": \"arn:aws:sagemaker:eu-west-1:985815980388:model-package/j2-grande-v1-0-43-6964668ff5aa38edbffbbb3f57e83d39\",\n",
    "        \"eu-west-2\": \"arn:aws:sagemaker:eu-west-2:856760150666:model-package/j2-grande-v1-0-43-6964668ff5aa38edbffbbb3f57e83d39\",\n",
    "        \"eu-west-3\": \"arn:aws:sagemaker:eu-west-3:843114510376:model-package/j2-grande-v1-0-43-6964668ff5aa38edbffbbb3f57e83d39\",\n",
    "        \"eu-north-1\": \"arn:aws:sagemaker:eu-north-1:136758871317:model-package/j2-grande-v1-0-43-6964668ff5aa38edbffbbb3f57e83d39\",\n",
    "        \"ap-southeast-1\": \"arn:aws:sagemaker:ap-southeast-1:192199979996:model-package/j2-grande-v1-0-43-6964668ff5aa38edbffbbb3f57e83d39\",\n",
    "        \"ap-southeast-2\": \"arn:aws:sagemaker:ap-southeast-2:666831318237:model-package/j2-grande-v1-0-43-6964668ff5aa38edbffbbb3f57e83d39\",\n",
    "        \"ap-northeast-2\": \"arn:aws:sagemaker:ap-northeast-2:745090734665:model-package/j2-grande-v1-0-43-6964668ff5aa38edbffbbb3f57e83d39\",\n",
    "        \"ap-northeast-1\": \"arn:aws:sagemaker:ap-northeast-1:977537786026:model-package/j2-grande-v1-0-43-6964668ff5aa38edbffbbb3f57e83d39\",\n",
    "        \"ap-south-1\": \"arn:aws:sagemaker:ap-south-1:077584701553:model-package/j2-grande-v1-0-43-6964668ff5aa38edbffbbb3f57e83d39\",\n",
    "        \"sa-east-1\": \"arn:aws:sagemaker:sa-east-1:270155090741:model-package/j2-grande-v1-0-43-6964668ff5aa38edbffbbb3f57e83d39\"\n",
    "    }\n",
    "    region = boto3.Session().region_name\n",
    "    if region not in model_package_map.keys():\n",
    "        raise (\"UNSUPPORTED REGION\")\n",
    "\n",
    "    model_package_arn = model_package_map[region]\n",
    "\n",
    "    # create a deployable model from the model package.\n",
    "    model = ModelPackage(\n",
    "        role=aws_role, \n",
    "        model_package_arn=model_package_arn,\n",
    "        sagemaker_session=sagemaker_session\n",
    "    )\n",
    "\n",
    "    # Deploy the model\n",
    "    predictor = model.deploy(1, \n",
    "        config['instance_type'],\n",
    "        endpoint_name=model_id, \n",
    "        model_data_download_timeout=3600,\n",
    "        container_startup_health_check_timeout=600,\n",
    "        wait=False\n",
    "    )\n",
    "    return predictor"
   ]
  },
  {
   "cell_type": "code",
   "execution_count": null,
   "id": "95ad751b-a879-4b04-950b-01d3c2b47b73",
   "metadata": {
    "tags": []
   },
   "outputs": [],
   "source": [
    "newline, bold, unbold = \"\\n\", \"\\033[1m\", \"\\033[0m\"\n",
    "\n",
    "# Deploys all model endpoints in parallel\n",
    "for model_id in _MODEL_CONFIG_:\n",
    "    # if load_endpoint  and endpoint_name is set on _MODEL_CONFIG_[model_id]\n",
    "    if load_endpoint and _MODEL_CONFIG_[model_id].get(\"endpoint_name\", \"\"):\n",
    "        print(f\"{bold}Loading endpoint {_MODEL_CONFIG_[model_id]['endpoint_name']}{unbold}{newline}\")\n",
    "    else:\n",
    "        # Otherwise deploy new endpoint\n",
    "        endpoint_name = name_from_base(f\"{model_id}\")\n",
    "        endpoint_config = _MODEL_CONFIG_[model_id]\n",
    "        instance_type = endpoint_config[\"instance_type\"]\n",
    "        model_version = endpoint_config[\"version\"]\n",
    "        if endpoint_config[\"provider\"] == \"marketplace\":\n",
    "            deploy_ai21(model_id, endpoint_config)\n",
    "        else:\n",
    "            print(f\"Deploying model {model_id} to SageMaker Enpdoint on a {instance_type} instance type\")\n",
    "            # Retrieve the inference container uri. This is the base HuggingFace container image for the default model above.\n",
    "            deploy_image_uri = image_uris.retrieve(\n",
    "                region=None,\n",
    "                framework=None,  # automatically inferred from model_id\n",
    "                image_scope=\"inference\",\n",
    "                model_id=model_id,\n",
    "                model_version=model_version,\n",
    "                instance_type=instance_type,\n",
    "            )\n",
    "            # Retrieve the model uri.\n",
    "            model_uri = model_uris.retrieve(\n",
    "                model_id=model_id, model_version=model_version, model_scope=\"inference\"\n",
    "            )\n",
    "            model_inference = Model(\n",
    "                image_uri=deploy_image_uri,\n",
    "                model_data=model_uri,\n",
    "                role=aws_role,\n",
    "                predictor_cls=Predictor,\n",
    "                name=model_id,\n",
    "                env=endpoint_config[\"env\"],\n",
    "            )\n",
    "            model_predictor_inference = model_inference.deploy(\n",
    "                initial_instance_count=1,\n",
    "                instance_type=instance_type,\n",
    "                predictor_cls=Predictor,\n",
    "                name=endpoint_name,\n",
    "                wait=False\n",
    "            )\n",
    "\n",
    "        print(f\"{bold}Deployment of model {model_id} has been initialized.{unbold}{newline}\")\n",
    "        _MODEL_CONFIG_[model_id][\"endpoint_name\"] = endpoint_name\n",
    "\n"
   ]
  },
  {
   "cell_type": "markdown",
   "id": "0def6473",
   "metadata": {},
   "source": [
    "We wait for the embedding model and the inference models selected to be created. it usually takes 5-10 mins "
   ]
  },
  {
   "cell_type": "code",
   "execution_count": null,
   "id": "9dbb168d",
   "metadata": {
    "tags": []
   },
   "outputs": [],
   "source": [
    "describe_inference_endpoint_response = sm_client.describe_endpoint(EndpointName=_MODEL_CONFIG_[embedding_model]['endpoint_name'])\n",
    "while describe_inference_endpoint_response[\"EndpointStatus\"] == 'Creating':\n",
    "    time.sleep(15)\n",
    "    print('.', end='')\n",
    "    describe_inference_endpoint_response = sm_client.describe_endpoint(EndpointName=endpoint_config['endpoint_name'])\n",
    "print('\\nEmbedding endpoint created')"
   ]
  },
  {
   "cell_type": "code",
   "execution_count": null,
   "id": "04426327",
   "metadata": {
    "tags": []
   },
   "outputs": [],
   "source": [
    "describe_inference_endpoint_response = sm_client.describe_endpoint(EndpointName=_MODEL_CONFIG_[falcon_inference_model]['endpoint_name'])\n",
    "while describe_inference_endpoint_response[\"EndpointStatus\"] == 'Creating':\n",
    "    time.sleep(15)\n",
    "    print('.', end='')\n",
    "    describe_inference_endpoint_response = sm_client.describe_endpoint(EndpointName=_MODEL_CONFIG_[falcon_inference_model]['endpoint_name'])\n",
    "print('\\nFalcon40B inference endpoint created')"
   ]
  },
  {
   "cell_type": "code",
   "execution_count": null,
   "id": "997b73fb",
   "metadata": {
    "tags": []
   },
   "outputs": [],
   "source": [
    "describe_inference_endpoint_response = sm_client.describe_endpoint(EndpointName=_MODEL_CONFIG_[ai21_inference_model]['endpoint_name'])\n",
    "while describe_inference_endpoint_response[\"EndpointStatus\"] == 'Creating':\n",
    "    time.sleep(15)\n",
    "    print('.', end='')\n",
    "    describe_inference_endpoint_response = sm_client.describe_endpoint(EndpointName=endpoint_config['endpoint_name'])\n",
    "print('\\nAI21 Jurrasic Grande inference endpoint created')"
   ]
  },
  {
   "cell_type": "markdown",
   "id": "076a6948-30fb-4f0b-944a-8016ee881228",
   "metadata": {},
   "source": [
    "We store few variables to be used in the next notebook"
   ]
  },
  {
   "cell_type": "code",
   "execution_count": null,
   "id": "9248e11f-4d88-46af-86f8-c5e0c2f9c59f",
   "metadata": {
    "tags": []
   },
   "outputs": [],
   "source": [
    "%store _MODEL_CONFIG_\n",
    "%store falcon_inference_model\n",
    "%store embedding_model\n",
    "# %store ai21_inference_model"
   ]
  },
  {
   "cell_type": "code",
   "execution_count": null,
   "id": "4482f418-0540-4aad-9cbc-868a9d3dbe43",
   "metadata": {},
   "outputs": [],
   "source": []
  }
 ],
 "metadata": {
  "availableInstances": [
   {
    "_defaultOrder": 0,
    "_isFastLaunch": true,
    "category": "General purpose",
    "gpuNum": 0,
    "hideHardwareSpecs": false,
    "memoryGiB": 4,
    "name": "ml.t3.medium",
    "vcpuNum": 2
   },
   {
    "_defaultOrder": 1,
    "_isFastLaunch": false,
    "category": "General purpose",
    "gpuNum": 0,
    "hideHardwareSpecs": false,
    "memoryGiB": 8,
    "name": "ml.t3.large",
    "vcpuNum": 2
   },
   {
    "_defaultOrder": 2,
    "_isFastLaunch": false,
    "category": "General purpose",
    "gpuNum": 0,
    "hideHardwareSpecs": false,
    "memoryGiB": 16,
    "name": "ml.t3.xlarge",
    "vcpuNum": 4
   },
   {
    "_defaultOrder": 3,
    "_isFastLaunch": false,
    "category": "General purpose",
    "gpuNum": 0,
    "hideHardwareSpecs": false,
    "memoryGiB": 32,
    "name": "ml.t3.2xlarge",
    "vcpuNum": 8
   },
   {
    "_defaultOrder": 4,
    "_isFastLaunch": true,
    "category": "General purpose",
    "gpuNum": 0,
    "hideHardwareSpecs": false,
    "memoryGiB": 8,
    "name": "ml.m5.large",
    "vcpuNum": 2
   },
   {
    "_defaultOrder": 5,
    "_isFastLaunch": false,
    "category": "General purpose",
    "gpuNum": 0,
    "hideHardwareSpecs": false,
    "memoryGiB": 16,
    "name": "ml.m5.xlarge",
    "vcpuNum": 4
   },
   {
    "_defaultOrder": 6,
    "_isFastLaunch": false,
    "category": "General purpose",
    "gpuNum": 0,
    "hideHardwareSpecs": false,
    "memoryGiB": 32,
    "name": "ml.m5.2xlarge",
    "vcpuNum": 8
   },
   {
    "_defaultOrder": 7,
    "_isFastLaunch": false,
    "category": "General purpose",
    "gpuNum": 0,
    "hideHardwareSpecs": false,
    "memoryGiB": 64,
    "name": "ml.m5.4xlarge",
    "vcpuNum": 16
   },
   {
    "_defaultOrder": 8,
    "_isFastLaunch": false,
    "category": "General purpose",
    "gpuNum": 0,
    "hideHardwareSpecs": false,
    "memoryGiB": 128,
    "name": "ml.m5.8xlarge",
    "vcpuNum": 32
   },
   {
    "_defaultOrder": 9,
    "_isFastLaunch": false,
    "category": "General purpose",
    "gpuNum": 0,
    "hideHardwareSpecs": false,
    "memoryGiB": 192,
    "name": "ml.m5.12xlarge",
    "vcpuNum": 48
   },
   {
    "_defaultOrder": 10,
    "_isFastLaunch": false,
    "category": "General purpose",
    "gpuNum": 0,
    "hideHardwareSpecs": false,
    "memoryGiB": 256,
    "name": "ml.m5.16xlarge",
    "vcpuNum": 64
   },
   {
    "_defaultOrder": 11,
    "_isFastLaunch": false,
    "category": "General purpose",
    "gpuNum": 0,
    "hideHardwareSpecs": false,
    "memoryGiB": 384,
    "name": "ml.m5.24xlarge",
    "vcpuNum": 96
   },
   {
    "_defaultOrder": 12,
    "_isFastLaunch": false,
    "category": "General purpose",
    "gpuNum": 0,
    "hideHardwareSpecs": false,
    "memoryGiB": 8,
    "name": "ml.m5d.large",
    "vcpuNum": 2
   },
   {
    "_defaultOrder": 13,
    "_isFastLaunch": false,
    "category": "General purpose",
    "gpuNum": 0,
    "hideHardwareSpecs": false,
    "memoryGiB": 16,
    "name": "ml.m5d.xlarge",
    "vcpuNum": 4
   },
   {
    "_defaultOrder": 14,
    "_isFastLaunch": false,
    "category": "General purpose",
    "gpuNum": 0,
    "hideHardwareSpecs": false,
    "memoryGiB": 32,
    "name": "ml.m5d.2xlarge",
    "vcpuNum": 8
   },
   {
    "_defaultOrder": 15,
    "_isFastLaunch": false,
    "category": "General purpose",
    "gpuNum": 0,
    "hideHardwareSpecs": false,
    "memoryGiB": 64,
    "name": "ml.m5d.4xlarge",
    "vcpuNum": 16
   },
   {
    "_defaultOrder": 16,
    "_isFastLaunch": false,
    "category": "General purpose",
    "gpuNum": 0,
    "hideHardwareSpecs": false,
    "memoryGiB": 128,
    "name": "ml.m5d.8xlarge",
    "vcpuNum": 32
   },
   {
    "_defaultOrder": 17,
    "_isFastLaunch": false,
    "category": "General purpose",
    "gpuNum": 0,
    "hideHardwareSpecs": false,
    "memoryGiB": 192,
    "name": "ml.m5d.12xlarge",
    "vcpuNum": 48
   },
   {
    "_defaultOrder": 18,
    "_isFastLaunch": false,
    "category": "General purpose",
    "gpuNum": 0,
    "hideHardwareSpecs": false,
    "memoryGiB": 256,
    "name": "ml.m5d.16xlarge",
    "vcpuNum": 64
   },
   {
    "_defaultOrder": 19,
    "_isFastLaunch": false,
    "category": "General purpose",
    "gpuNum": 0,
    "hideHardwareSpecs": false,
    "memoryGiB": 384,
    "name": "ml.m5d.24xlarge",
    "vcpuNum": 96
   },
   {
    "_defaultOrder": 20,
    "_isFastLaunch": false,
    "category": "General purpose",
    "gpuNum": 0,
    "hideHardwareSpecs": true,
    "memoryGiB": 0,
    "name": "ml.geospatial.interactive",
    "supportedImageNames": [
     "sagemaker-geospatial-v1-0"
    ],
    "vcpuNum": 0
   },
   {
    "_defaultOrder": 21,
    "_isFastLaunch": true,
    "category": "Compute optimized",
    "gpuNum": 0,
    "hideHardwareSpecs": false,
    "memoryGiB": 4,
    "name": "ml.c5.large",
    "vcpuNum": 2
   },
   {
    "_defaultOrder": 22,
    "_isFastLaunch": false,
    "category": "Compute optimized",
    "gpuNum": 0,
    "hideHardwareSpecs": false,
    "memoryGiB": 8,
    "name": "ml.c5.xlarge",
    "vcpuNum": 4
   },
   {
    "_defaultOrder": 23,
    "_isFastLaunch": false,
    "category": "Compute optimized",
    "gpuNum": 0,
    "hideHardwareSpecs": false,
    "memoryGiB": 16,
    "name": "ml.c5.2xlarge",
    "vcpuNum": 8
   },
   {
    "_defaultOrder": 24,
    "_isFastLaunch": false,
    "category": "Compute optimized",
    "gpuNum": 0,
    "hideHardwareSpecs": false,
    "memoryGiB": 32,
    "name": "ml.c5.4xlarge",
    "vcpuNum": 16
   },
   {
    "_defaultOrder": 25,
    "_isFastLaunch": false,
    "category": "Compute optimized",
    "gpuNum": 0,
    "hideHardwareSpecs": false,
    "memoryGiB": 72,
    "name": "ml.c5.9xlarge",
    "vcpuNum": 36
   },
   {
    "_defaultOrder": 26,
    "_isFastLaunch": false,
    "category": "Compute optimized",
    "gpuNum": 0,
    "hideHardwareSpecs": false,
    "memoryGiB": 96,
    "name": "ml.c5.12xlarge",
    "vcpuNum": 48
   },
   {
    "_defaultOrder": 27,
    "_isFastLaunch": false,
    "category": "Compute optimized",
    "gpuNum": 0,
    "hideHardwareSpecs": false,
    "memoryGiB": 144,
    "name": "ml.c5.18xlarge",
    "vcpuNum": 72
   },
   {
    "_defaultOrder": 28,
    "_isFastLaunch": false,
    "category": "Compute optimized",
    "gpuNum": 0,
    "hideHardwareSpecs": false,
    "memoryGiB": 192,
    "name": "ml.c5.24xlarge",
    "vcpuNum": 96
   },
   {
    "_defaultOrder": 29,
    "_isFastLaunch": true,
    "category": "Accelerated computing",
    "gpuNum": 1,
    "hideHardwareSpecs": false,
    "memoryGiB": 16,
    "name": "ml.g4dn.xlarge",
    "vcpuNum": 4
   },
   {
    "_defaultOrder": 30,
    "_isFastLaunch": false,
    "category": "Accelerated computing",
    "gpuNum": 1,
    "hideHardwareSpecs": false,
    "memoryGiB": 32,
    "name": "ml.g4dn.2xlarge",
    "vcpuNum": 8
   },
   {
    "_defaultOrder": 31,
    "_isFastLaunch": false,
    "category": "Accelerated computing",
    "gpuNum": 1,
    "hideHardwareSpecs": false,
    "memoryGiB": 64,
    "name": "ml.g4dn.4xlarge",
    "vcpuNum": 16
   },
   {
    "_defaultOrder": 32,
    "_isFastLaunch": false,
    "category": "Accelerated computing",
    "gpuNum": 1,
    "hideHardwareSpecs": false,
    "memoryGiB": 128,
    "name": "ml.g4dn.8xlarge",
    "vcpuNum": 32
   },
   {
    "_defaultOrder": 33,
    "_isFastLaunch": false,
    "category": "Accelerated computing",
    "gpuNum": 4,
    "hideHardwareSpecs": false,
    "memoryGiB": 192,
    "name": "ml.g4dn.12xlarge",
    "vcpuNum": 48
   },
   {
    "_defaultOrder": 34,
    "_isFastLaunch": false,
    "category": "Accelerated computing",
    "gpuNum": 1,
    "hideHardwareSpecs": false,
    "memoryGiB": 256,
    "name": "ml.g4dn.16xlarge",
    "vcpuNum": 64
   },
   {
    "_defaultOrder": 35,
    "_isFastLaunch": false,
    "category": "Accelerated computing",
    "gpuNum": 1,
    "hideHardwareSpecs": false,
    "memoryGiB": 61,
    "name": "ml.p3.2xlarge",
    "vcpuNum": 8
   },
   {
    "_defaultOrder": 36,
    "_isFastLaunch": false,
    "category": "Accelerated computing",
    "gpuNum": 4,
    "hideHardwareSpecs": false,
    "memoryGiB": 244,
    "name": "ml.p3.8xlarge",
    "vcpuNum": 32
   },
   {
    "_defaultOrder": 37,
    "_isFastLaunch": false,
    "category": "Accelerated computing",
    "gpuNum": 8,
    "hideHardwareSpecs": false,
    "memoryGiB": 488,
    "name": "ml.p3.16xlarge",
    "vcpuNum": 64
   },
   {
    "_defaultOrder": 38,
    "_isFastLaunch": false,
    "category": "Accelerated computing",
    "gpuNum": 8,
    "hideHardwareSpecs": false,
    "memoryGiB": 768,
    "name": "ml.p3dn.24xlarge",
    "vcpuNum": 96
   },
   {
    "_defaultOrder": 39,
    "_isFastLaunch": false,
    "category": "Memory Optimized",
    "gpuNum": 0,
    "hideHardwareSpecs": false,
    "memoryGiB": 16,
    "name": "ml.r5.large",
    "vcpuNum": 2
   },
   {
    "_defaultOrder": 40,
    "_isFastLaunch": false,
    "category": "Memory Optimized",
    "gpuNum": 0,
    "hideHardwareSpecs": false,
    "memoryGiB": 32,
    "name": "ml.r5.xlarge",
    "vcpuNum": 4
   },
   {
    "_defaultOrder": 41,
    "_isFastLaunch": false,
    "category": "Memory Optimized",
    "gpuNum": 0,
    "hideHardwareSpecs": false,
    "memoryGiB": 64,
    "name": "ml.r5.2xlarge",
    "vcpuNum": 8
   },
   {
    "_defaultOrder": 42,
    "_isFastLaunch": false,
    "category": "Memory Optimized",
    "gpuNum": 0,
    "hideHardwareSpecs": false,
    "memoryGiB": 128,
    "name": "ml.r5.4xlarge",
    "vcpuNum": 16
   },
   {
    "_defaultOrder": 43,
    "_isFastLaunch": false,
    "category": "Memory Optimized",
    "gpuNum": 0,
    "hideHardwareSpecs": false,
    "memoryGiB": 256,
    "name": "ml.r5.8xlarge",
    "vcpuNum": 32
   },
   {
    "_defaultOrder": 44,
    "_isFastLaunch": false,
    "category": "Memory Optimized",
    "gpuNum": 0,
    "hideHardwareSpecs": false,
    "memoryGiB": 384,
    "name": "ml.r5.12xlarge",
    "vcpuNum": 48
   },
   {
    "_defaultOrder": 45,
    "_isFastLaunch": false,
    "category": "Memory Optimized",
    "gpuNum": 0,
    "hideHardwareSpecs": false,
    "memoryGiB": 512,
    "name": "ml.r5.16xlarge",
    "vcpuNum": 64
   },
   {
    "_defaultOrder": 46,
    "_isFastLaunch": false,
    "category": "Memory Optimized",
    "gpuNum": 0,
    "hideHardwareSpecs": false,
    "memoryGiB": 768,
    "name": "ml.r5.24xlarge",
    "vcpuNum": 96
   },
   {
    "_defaultOrder": 47,
    "_isFastLaunch": false,
    "category": "Accelerated computing",
    "gpuNum": 1,
    "hideHardwareSpecs": false,
    "memoryGiB": 16,
    "name": "ml.g5.xlarge",
    "vcpuNum": 4
   },
   {
    "_defaultOrder": 48,
    "_isFastLaunch": false,
    "category": "Accelerated computing",
    "gpuNum": 1,
    "hideHardwareSpecs": false,
    "memoryGiB": 32,
    "name": "ml.g5.2xlarge",
    "vcpuNum": 8
   },
   {
    "_defaultOrder": 49,
    "_isFastLaunch": false,
    "category": "Accelerated computing",
    "gpuNum": 1,
    "hideHardwareSpecs": false,
    "memoryGiB": 64,
    "name": "ml.g5.4xlarge",
    "vcpuNum": 16
   },
   {
    "_defaultOrder": 50,
    "_isFastLaunch": false,
    "category": "Accelerated computing",
    "gpuNum": 1,
    "hideHardwareSpecs": false,
    "memoryGiB": 128,
    "name": "ml.g5.8xlarge",
    "vcpuNum": 32
   },
   {
    "_defaultOrder": 51,
    "_isFastLaunch": false,
    "category": "Accelerated computing",
    "gpuNum": 1,
    "hideHardwareSpecs": false,
    "memoryGiB": 256,
    "name": "ml.g5.16xlarge",
    "vcpuNum": 64
   },
   {
    "_defaultOrder": 52,
    "_isFastLaunch": false,
    "category": "Accelerated computing",
    "gpuNum": 4,
    "hideHardwareSpecs": false,
    "memoryGiB": 192,
    "name": "ml.g5.12xlarge",
    "vcpuNum": 48
   },
   {
    "_defaultOrder": 53,
    "_isFastLaunch": false,
    "category": "Accelerated computing",
    "gpuNum": 4,
    "hideHardwareSpecs": false,
    "memoryGiB": 384,
    "name": "ml.g5.24xlarge",
    "vcpuNum": 96
   },
   {
    "_defaultOrder": 54,
    "_isFastLaunch": false,
    "category": "Accelerated computing",
    "gpuNum": 8,
    "hideHardwareSpecs": false,
    "memoryGiB": 768,
    "name": "ml.g5.48xlarge",
    "vcpuNum": 192
   },
   {
    "_defaultOrder": 55,
    "_isFastLaunch": false,
    "category": "Accelerated computing",
    "gpuNum": 8,
    "hideHardwareSpecs": false,
    "memoryGiB": 1152,
    "name": "ml.p4d.24xlarge",
    "vcpuNum": 96
   },
   {
    "_defaultOrder": 56,
    "_isFastLaunch": false,
    "category": "Accelerated computing",
    "gpuNum": 8,
    "hideHardwareSpecs": false,
    "memoryGiB": 1152,
    "name": "ml.p4de.24xlarge",
    "vcpuNum": 96
   }
  ],
  "instance_type": "ml.t3.medium",
  "kernelspec": {
   "display_name": "Python 3 (Data Science 3.0)",
   "language": "python",
   "name": "python3__SAGEMAKER_INTERNAL__arn:aws:sagemaker:us-east-1:081325390199:image/sagemaker-data-science-310-v1"
  },
  "language_info": {
   "codemirror_mode": {
    "name": "ipython",
    "version": 3
   },
   "file_extension": ".py",
   "mimetype": "text/x-python",
   "name": "python",
   "nbconvert_exporter": "python",
   "pygments_lexer": "ipython3",
   "version": "3.10.6"
  }
 },
 "nbformat": 4,
 "nbformat_minor": 5
}
